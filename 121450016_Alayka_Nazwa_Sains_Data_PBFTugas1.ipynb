{
  "nbformat": 4,
  "nbformat_minor": 0,
  "metadata": {
    "colab": {
      "provenance": []
    },
    "kernelspec": {
      "name": "python3",
      "display_name": "Python 3"
    },
    "language_info": {
      "name": "python"
    }
  },
  "cells": [
    {
      "cell_type": "markdown",
      "source": [
        "Nama : Alayka Nazwa\n",
        "\n",
        "\n",
        "NIM : 121450016\n"
      ],
      "metadata": {
        "id": "nxg7YWxs9RYJ"
      }
    },
    {
      "cell_type": "markdown",
      "source": [
        "1. Jelaskan menggunakan tabel mengenai kelebihan dan kekurangan paradigma Procedural dibandingkan dengan Object Oriented (minimal 3) !"
      ],
      "metadata": {
        "id": "hgl6CueB15lt"
      }
    },
    {
      "cell_type": "markdown",
      "source": [
        "Kelebihan Paradigma procedural dan object oriented:"
      ],
      "metadata": {
        "id": "VY1a4_381_9_"
      }
    },
    {
      "cell_type": "code",
      "execution_count": 3,
      "metadata": {
        "colab": {
          "base_uri": "https://localhost:8080/"
        },
        "id": "3Ra5vetV1So8",
        "outputId": "809dc482-7b6d-490d-c181-e486e7190d00"
      },
      "outputs": [
        {
          "output_type": "stream",
          "name": "stdout",
          "text": [
            "╒════════════════════════════════════════════════════════════════════════════════════════════════════════════════════╤═══════════════════════════════════════════════════════════════════════╕\n",
            "│ Procedural                                                                                                         │ Oriented                                                              │\n",
            "╞════════════════════════════════════════════════════════════════════════════════════════════════════════════════════╪═══════════════════════════════════════════════════════════════════════╡\n",
            "│ Program dibagi menjadi bagian-bagian kecil disebut fungsi                                                          │ Pemrogramannya cenderung lebih sulit dipahami dibandingkan procedural │\n",
            "├────────────────────────────────────────────────────────────────────────────────────────────────────────────────────┼───────────────────────────────────────────────────────────────────────┤\n",
            "│ Memiliki modularitas yang kompleks didalam sebuah program sehingga data yang di inputkan tidak mudah termodifikasi │ Penentuan akses tidak didukung                                        │\n",
            "├────────────────────────────────────────────────────────────────────────────────────────────────────────────────────┼───────────────────────────────────────────────────────────────────────┤\n",
            "│ Fungsi dan prosedur digunakan untuk memanipulasi data                                                              │ Karena kurangnya penentu akses                                        │\n",
            "╘════════════════════════════════════════════════════════════════════════════════════════════════════════════════════╧═══════════════════════════════════════════════════════════════════════╛\n"
          ]
        }
      ],
      "source": [
        "from tabulate import tabulate\n",
        "data = [[\"Program dibagi menjadi bagian-bagian kecil disebut fungsi\",\"Pemrogramannya cenderung lebih sulit dipahami dibandingkan procedural\"],\n",
        "        [\"Memiliki modularitas yang kompleks didalam sebuah program sehingga data yang di inputkan tidak mudah termodifikasi\",\" Penentuan akses tidak didukung\"]\n",
        "        ,[\"Fungsi dan prosedur digunakan untuk memanipulasi data\",\"Karena kurangnya penentu akses\"]]\n",
        "print(tabulate(data, headers=[\"Procedural\",\"Oriented\"],tablefmt=\"fancy_grid\"))"
      ]
    },
    {
      "cell_type": "markdown",
      "source": [
        "Kekurangan paradigma procedural dan object oriented :"
      ],
      "metadata": {
        "id": "yZvjDD5_57OE"
      }
    },
    {
      "cell_type": "code",
      "source": [
        "from tabulate import tabulate\n",
        "data = [[\"Dukungan yang terbatas\",\"Dukungan yang besar dalam pengembangan project\"],\n",
        "        [\"Fungsi yang tersedia susah untuk diubah dan mempengaruhi sistem secara keseluruhan\",\"Fungsi yang tersedia jika diubah tidak akan mempengaruhi sistem / aplikasi secara keseluruhan.\"]\n",
        "        ,[\"Kurang cocok untuk program yang bersifat kompleks\",\"Cocok untuk program aplikasi yang bersifat kompleks\"]]\n",
        "print(tabulate(data, headers=[\"Procedural\",\"Oriented\"],tablefmt=\"fancy_grid\"))"
      ],
      "metadata": {
        "colab": {
          "base_uri": "https://localhost:8080/"
        },
        "id": "HyXACIs15-1k",
        "outputId": "0f73ca39-8ce1-457d-8d7d-06d48175c579"
      },
      "execution_count": 5,
      "outputs": [
        {
          "output_type": "stream",
          "name": "stdout",
          "text": [
            "╒════════════════════════════════════════════════════════════════════════════════════╤════════════════════════════════════════════════════════════════════════════════════════════════╕\n",
            "│ Procedural                                                                         │ Oriented                                                                                       │\n",
            "╞════════════════════════════════════════════════════════════════════════════════════╪════════════════════════════════════════════════════════════════════════════════════════════════╡\n",
            "│ Dukungan yang terbatas                                                             │ Dukungan yang besar dalam pengembangan project                                                 │\n",
            "├────────────────────────────────────────────────────────────────────────────────────┼────────────────────────────────────────────────────────────────────────────────────────────────┤\n",
            "│ Fungsi yang tersedia susah untuk diubah dan mempengaruhi sistem secara keseluruhan │ Fungsi yang tersedia jika diubah tidak akan mempengaruhi sistem / aplikasi secara keseluruhan. │\n",
            "├────────────────────────────────────────────────────────────────────────────────────┼────────────────────────────────────────────────────────────────────────────────────────────────┤\n",
            "│ Kurang cocok untuk program yang bersifat kompleks                                  │ Cocok untuk program aplikasi yang bersifat kompleks                                            │\n",
            "╘════════════════════════════════════════════════════════════════════════════════════╧════════════════════════════════════════════════════════════════════════════════════════════════╛\n"
          ]
        }
      ]
    },
    {
      "cell_type": "markdown",
      "source": [
        "2. Jelaskan menggunakan tabel megenai kelebihan dan kekurangan paradigma object oriented dibandingkan dengan functional (minimal 3) !"
      ],
      "metadata": {
        "id": "ZC-7muUa5Sdu"
      }
    },
    {
      "cell_type": "markdown",
      "source": [
        "Kelebihan Object Oriented dibandingkan Functional:\n",
        "\n"
      ],
      "metadata": {
        "id": "GFmJ2bz05j76"
      }
    },
    {
      "cell_type": "code",
      "source": [
        "from tabulate import tabulate\n",
        "data = [[\"Oriented di support oleh banyak library yang berguna mempercepat penyelesaian program yang di inputkan\",\"Library yang ada tidak sebanyak oriented sehingga memerlukan waktu banyak untuk penyelesaian program\"],\n",
        "        [\"Cocok untuk mengerjakan proyek besar kompleks karena designnya modular\",\"Kurang cocok untuk mengerjakan proyek besar\"]\n",
        "        ,[\"Sistem Program dapat dikembangankan sampai skala kompleks\",\"Sistem program tidak dapat dikembangkan ke skala kompleks\"]]\n",
        "print(tabulate(data, headers=[\"Oriented\",\"Functional\"],tablefmt=\"fancy_grid\"))"
      ],
      "metadata": {
        "colab": {
          "base_uri": "https://localhost:8080/"
        },
        "id": "PjYtNyr87A_n",
        "outputId": "9ca6ce98-055a-4455-c8c2-4a0f563dc04d"
      },
      "execution_count": 6,
      "outputs": [
        {
          "output_type": "stream",
          "name": "stdout",
          "text": [
            "╒════════════════════════════════════════════════════════════════════════════════════════════════════════╤══════════════════════════════════════════════════════════════════════════════════════════════════════╕\n",
            "│ Oriented                                                                                               │ Functional                                                                                           │\n",
            "╞════════════════════════════════════════════════════════════════════════════════════════════════════════╪══════════════════════════════════════════════════════════════════════════════════════════════════════╡\n",
            "│ Oriented di support oleh banyak library yang berguna mempercepat penyelesaian program yang di inputkan │ Library yang ada tidak sebanyak oriented sehingga memerlukan waktu banyak untuk penyelesaian program │\n",
            "├────────────────────────────────────────────────────────────────────────────────────────────────────────┼──────────────────────────────────────────────────────────────────────────────────────────────────────┤\n",
            "│ Cocok untuk mengerjakan proyek besar kompleks karena designnya modular                                 │ Kurang cocok untuk mengerjakan proyek besar                                                          │\n",
            "├────────────────────────────────────────────────────────────────────────────────────────────────────────┼──────────────────────────────────────────────────────────────────────────────────────────────────────┤\n",
            "│ Sistem Program dapat dikembangankan sampai skala kompleks                                              │ Sistem program tidak dapat dikembangkan ke skala kompleks                                            │\n",
            "╘════════════════════════════════════════════════════════════════════════════════════════════════════════╧══════════════════════════════════════════════════════════════════════════════════════════════════════╛\n"
          ]
        }
      ]
    },
    {
      "cell_type": "markdown",
      "source": [
        "Kekurangan Object Oriented dibandingkan Functional:"
      ],
      "metadata": {
        "id": "5Avvqn557NZA"
      }
    },
    {
      "cell_type": "code",
      "source": [
        "from tabulate import tabulate\n",
        "data = [[\"Ukuran program cenderung lebih besar\",\"Ukuran program cenderung lebih kecil\"],\n",
        "        [\"Runtime program oriented lebih lama dibandingkan functional\",\"Runtime program lebih cepat dibandingkan oriented\"]\n",
        "        ,[\"Program oriented lebih kompleks sehingga membutuhkan cukup waktu untuk terbiasa\",\"Program cenderung tidak terlalu kompleks dibandingkan dengan oriented\"]]\n",
        "print(tabulate(data, headers=[\"Oriented\",\"Functional\"],tablefmt=\"fancy_grid\"))"
      ],
      "metadata": {
        "colab": {
          "base_uri": "https://localhost:8080/"
        },
        "id": "9pQPv18b7Q1-",
        "outputId": "4219a721-46c4-4144-8e81-2528a3e187cd"
      },
      "execution_count": 7,
      "outputs": [
        {
          "output_type": "stream",
          "name": "stdout",
          "text": [
            "╒═════════════════════════════════════════════════════════════════════════════════╤═══════════════════════════════════════════════════════════════════════╕\n",
            "│ Oriented                                                                        │ Functional                                                            │\n",
            "╞═════════════════════════════════════════════════════════════════════════════════╪═══════════════════════════════════════════════════════════════════════╡\n",
            "│ Ukuran program cenderung lebih besar                                            │ Ukuran program cenderung lebih kecil                                  │\n",
            "├─────────────────────────────────────────────────────────────────────────────────┼───────────────────────────────────────────────────────────────────────┤\n",
            "│ Runtime program oriented lebih lama dibandingkan functional                     │ Runtime program lebih cepat dibandingkan oriented                     │\n",
            "├─────────────────────────────────────────────────────────────────────────────────┼───────────────────────────────────────────────────────────────────────┤\n",
            "│ Program oriented lebih kompleks sehingga membutuhkan cukup waktu untuk terbiasa │ Program cenderung tidak terlalu kompleks dibandingkan dengan oriented │\n",
            "╘═════════════════════════════════════════════════════════════════════════════════╧═══════════════════════════════════════════════════════════════════════╛\n"
          ]
        }
      ]
    },
    {
      "cell_type": "markdown",
      "source": [
        "3. Jelaskan menggunakan tabel mengenai kelebihan dan kekurangan paradigma Procedural dibandingkan dengan Functional (minimal 3) !"
      ],
      "metadata": {
        "id": "V4p8q76V7XVy"
      }
    },
    {
      "cell_type": "markdown",
      "source": [
        "Kelebihan procedural dibandingkan functional:"
      ],
      "metadata": {
        "id": "oCwyd5hh7a8T"
      }
    },
    {
      "cell_type": "code",
      "source": [
        "from tabulate import tabulate\n",
        "data = [[\"Implementasi dari algoritma paradigma cenderung mudah dipahami\",\"Cenderung kurang dapat dipahami untuk pemula\"],\n",
        "        [\"Bersifat mutable untuk data\",\"Bersifat imutable untuk data\"]\n",
        "        ,[\"Penggunaan looping normal\",\"Penggunaan looping yang sulit\"]]\n",
        "print(tabulate(data, headers=[\"Procedural\",\"Functional\"],tablefmt=\"fancy_grid\"))"
      ],
      "metadata": {
        "colab": {
          "base_uri": "https://localhost:8080/"
        },
        "id": "-47aWlpR7fIE",
        "outputId": "fae2af93-4be9-4b4d-813c-d4610dd42ddf"
      },
      "execution_count": 8,
      "outputs": [
        {
          "output_type": "stream",
          "name": "stdout",
          "text": [
            "╒════════════════════════════════════════════════════════════════╤══════════════════════════════════════════════╕\n",
            "│ Procedural                                                     │ Functional                                   │\n",
            "╞════════════════════════════════════════════════════════════════╪══════════════════════════════════════════════╡\n",
            "│ Implementasi dari algoritma paradigma cenderung mudah dipahami │ Cenderung kurang dapat dipahami untuk pemula │\n",
            "├────────────────────────────────────────────────────────────────┼──────────────────────────────────────────────┤\n",
            "│ Bersifat mutable untuk data                                    │ Bersifat imutable untuk data                 │\n",
            "├────────────────────────────────────────────────────────────────┼──────────────────────────────────────────────┤\n",
            "│ Penggunaan looping normal                                      │ Penggunaan looping yang sulit                │\n",
            "╘════════════════════════════════════════════════════════════════╧══════════════════════════════════════════════╛\n"
          ]
        }
      ]
    },
    {
      "cell_type": "markdown",
      "source": [
        "Kekurangan procedural dibandingkan functional:"
      ],
      "metadata": {
        "id": "-3pVtgkn7oS8"
      }
    },
    {
      "cell_type": "code",
      "source": [
        "from tabulate import tabulate\n",
        "data = [[\"Proses debug lebih lambat\",\"Proses debug lebih cepat\"],\n",
        "        [\"Cenderung kurang cocok digunakan guna pengembangan program sensitif terhadap data\",\"Cocok digunakan untuk pengembangan program yang sensitif terhadap data\"]\n",
        "        ,[\"Cenderung jarang menggunakan fungsi\",\"Cenderung menggunakan fungsi agar lebih kompleks\"]]\n",
        "print(tabulate(data, headers=[\"Procedural\",\"Functional\"],tablefmt=\"fancy_grid\"))"
      ],
      "metadata": {
        "colab": {
          "base_uri": "https://localhost:8080/"
        },
        "id": "DavTPYEV7rLt",
        "outputId": "adcae2df-fcbd-4bc9-cfda-ad4c68da29d5"
      },
      "execution_count": 9,
      "outputs": [
        {
          "output_type": "stream",
          "name": "stdout",
          "text": [
            "╒═══════════════════════════════════════════════════════════════════════════════════╤════════════════════════════════════════════════════════════════════════╕\n",
            "│ Procedural                                                                        │ Functional                                                             │\n",
            "╞═══════════════════════════════════════════════════════════════════════════════════╪════════════════════════════════════════════════════════════════════════╡\n",
            "│ Proses debug lebih lambat                                                         │ Proses debug lebih cepat                                               │\n",
            "├───────────────────────────────────────────────────────────────────────────────────┼────────────────────────────────────────────────────────────────────────┤\n",
            "│ Cenderung kurang cocok digunakan guna pengembangan program sensitif terhadap data │ Cocok digunakan untuk pengembangan program yang sensitif terhadap data │\n",
            "├───────────────────────────────────────────────────────────────────────────────────┼────────────────────────────────────────────────────────────────────────┤\n",
            "│ Cenderung jarang menggunakan fungsi                                               │ Cenderung menggunakan fungsi agar lebih kompleks                       │\n",
            "╘═══════════════════════════════════════════════════════════════════════════════════╧════════════════════════════════════════════════════════════════════════╛\n"
          ]
        }
      ]
    },
    {
      "cell_type": "markdown",
      "source": [
        "4. Apa yang dimaksud dengan pure functional programming language?"
      ],
      "metadata": {
        "id": "4-18uavJ7wDq"
      }
    },
    {
      "cell_type": "markdown",
      "source": [
        "Bahasa pemrograman yang memperlakukan seluruh programs sebagai fungsi murni dan menangani semata-mata melalui interaksi dengan runtime"
      ],
      "metadata": {
        "id": "U9O-UViI7zTM"
      }
    },
    {
      "cell_type": "markdown",
      "source": [
        "5. Dari bahasa pemrograman FP di slide sebelumnya ( slide 14 ) , manakah yang termasuk pure functional programming language?"
      ],
      "metadata": {
        "id": "cVFzSGAC733h"
      }
    },
    {
      "cell_type": "markdown",
      "source": [
        "1.Lisp\n",
        "2.Haskell\n",
        "3.Standard ML"
      ],
      "metadata": {
        "id": "4blHmgem78Z1"
      }
    },
    {
      "cell_type": "markdown",
      "source": [
        "6. Membuat program Simple Password encryption, dengan ketentuan :\n",
        "Input password bertipe string dengan batasan panjang password 100 karakter\n",
        "Setiap karakter dari string tersebut diubah menjadi ASCII value\n",
        "Kemudian setiap ASCII value tersebut dikembangkan menjadi 3 Value dengan dilakukan operasi berikut:\n",
        "\n",
        "Value dengan dilakukan operasi berikut:\n",
        "Value pertama dibagi dengan integer 26 kemudian dibulatkan dan dijumlahkan dengan 80 kemudian diubah kembali menjadi karakter\n",
        "Value kedua dihitung sisa bagi dengan 26 kemudian dijumlahkan dengan 80 kemudian diubah kembali menjadi karakter\n",
        "Value ketiga adalah karakter ‘+’ jika value pertama lebih besar dari value kedua, atau value ketiga adalah karakter ‘-’ jika value pertama tidak lebih besar dari value kedua\n",
        "Deretkan value pertama, kedua dan ketiga untuk setiap karakter dalam password tersebut sehingga didapatkan password dalam bentuk baru"
      ],
      "metadata": {
        "id": "-tKEvJzK8H2_"
      }
    },
    {
      "cell_type": "code",
      "source": [
        "# fungsi enkripsi\n",
        "def enkripsi(password):\n",
        "  # jika panjang karakter lebih dari 100\n",
        "  if len(password) > 100 or len(password) == 0:\n",
        "    print(\"Enter 1-100 characters\")\n",
        "  else:\n",
        "    # merubah setiap karakter menjadi kode ascii dan ditampung dalam list\n",
        "    ascii = [str(ord(i)) for i in password]\n",
        "    # membuat 3 value dari setiap kode ascii dan menggabungkan semuanya\n",
        "    enkri = ''.join(chr((int(j)//26)+80)+chr((int(j)%26)+80)+('+' if (int(j)//26)+80 > (int(j)%26)+80 else '-') for j in ascii)\n",
        "    # menampilkan hasil enkripsi\n",
        "    print(\"The encryption password is: \", enkri)"
      ],
      "metadata": {
        "id": "3fw0xT7W8baN"
      },
      "execution_count": 10,
      "outputs": []
    },
    {
      "cell_type": "code",
      "source": [
        "# enkripsi\n",
        "password = input(\"Enter Password: \")\n",
        "enkripsi(password)"
      ],
      "metadata": {
        "colab": {
          "base_uri": "https://localhost:8080/"
        },
        "id": "S6_hK82E8lHW",
        "outputId": "53d9ffbe-2051-4ca8-f265-f3dba314796c"
      },
      "execution_count": 11,
      "outputs": [
        {
          "output_type": "stream",
          "name": "stdout",
          "text": [
            "Enter Password: alykanazwa\n",
            "The encryption password is:  Sc-TT-Ta-TS+Sc-TV-Sc-Tb-T_-Sc-\n"
          ]
        }
      ]
    }
  ]
}